{
 "cells": [
  {
   "cell_type": "markdown",
   "metadata": {},
   "source": [
    "### 切换回主目录 cpop"
   ]
  },
  {
   "cell_type": "code",
   "execution_count": 1,
   "metadata": {
    "collapsed": true
   },
   "outputs": [],
   "source": [
    "cd .."
   ]
  },
  {
   "cell_type": "markdown",
   "metadata": {},
   "source": [
    "### 读取数据并进行剪裁"
   ]
  },
  {
   "cell_type": "code",
   "execution_count": 2,
   "metadata": {
    "collapsed": true
   },
   "outputs": [],
   "source": [
    "clc; clear all; close all;\n",
    "addpath(genpath(pwd));\n",
    "zones_Prec = get_zones_Prec_weekly();\n",
    "OISST      = dlmread('data/OISST_19811101-20161116.dat');\n",
    "uwnd       = dlmread('data/uwnd_WIND_CCMP_merge_OISST_weekly.dat');\n",
    "vwnd       = dlmread('data/vwnd_WIND_CCMP_merge_OISST_weekly.dat');\n",
    "\n",
    "% Intercept SST to make them time consistent\n",
    "OISST = OISST(1:size(zones_Prec, 1), :);\n",
    "uwnd  = uwnd(1:size(zones_Prec, 1), :);\n",
    "vwnd  = vwnd(1:size(zones_Prec, 1), :);"
   ]
  },
  {
   "cell_type": "code",
   "execution_count": 3,
   "metadata": {
    "collapsed": false
   },
   "outputs": [
    {
     "name": "stdout",
     "output_type": "stream",
     "text": [
      "Name               Size                   Bytes  Class     Attributes\n",
      "\n",
      "  OISST           1688x20800            280883200  double              \n",
      "  uwnd            1688x20800            280883200  double              \n",
      "  vwnd            1688x20800            280883200  double              \n",
      "  zones_Prec      1688x9                   121536  double\n"
     ]
    }
   ],
   "source": [
    "whos"
   ]
  },
  {
   "cell_type": "markdown",
   "metadata": {},
   "source": [
    "### 准备好需要的数据形式，这里忽略了空间信息"
   ]
  },
  {
   "cell_type": "code",
   "execution_count": 4,
   "metadata": {
    "collapsed": true
   },
   "outputs": [],
   "source": [
    "x_train = [OISST uwnd vwnd];\n",
    "y_train = zones_Prec;"
   ]
  },
  {
   "cell_type": "markdown",
   "metadata": {},
   "source": [
    "### 使用TNDD对数据进行训练，训练的结果进行储存\n",
    "### 这次训练仅仅对次数进行重复，这会消耗一定的时间"
   ]
  },
  {
   "cell_type": "code",
   "execution_count": null,
   "metadata": {
    "collapsed": true
   },
   "outputs": [],
   "source": [
    "% idx   hiddenLayerSize delay_weeks trainPerformance    valPerformance  testPerformance performance trainR  valR    testR   R   region1 region2 region3 region4 region5 region6 region7 region8 region9\n",
    "% result = tdnn_train(X, Y, delay_times, hiddenLayerSize)\n",
    "result = [];\n",
    "for idx = 1:50\n",
    "    result_one = tdnn_train(x_train, y_train, 6, 100)\n",
    "    result = [result; result_one];\n",
    "    disp(result_one)\n",
    "end\n",
    "dlmwrite('result/20161216_2_result_repeat_50_delay_6_hid_100.dat', result, 'delimiter', '\\t');"
   ]
  },
  {
   "cell_type": "code",
   "execution_count": 22,
   "metadata": {
    "collapsed": false
   },
   "outputs": [
    {
     "name": "stdout",
     "output_type": "stream",
     "text": [
      "Name               Size                   Bytes  Class     Attributes\n",
      "\n",
      "  OISST           1688x20800            280883200  double              \n",
      "  result            50x20                    8000  double              \n",
      "  result_one         1x20                     160  double              \n",
      "  uwnd            1688x20800            280883200  double              \n",
      "  vwnd            1688x20800            280883200  double              \n",
      "  x                  1x13                     104  double              \n",
      "  x_train         1688x62400            842649600  double              \n",
      "  y_train         1688x9                   121536  double              \n",
      "  zones_Prec      1688x9                   121536  double\n"
     ]
    }
   ],
   "source": [
    "clear i idx\n",
    "whos"
   ]
  },
  {
   "cell_type": "markdown",
   "metadata": {},
   "source": [
    "### 对不同的hiddenLayerSize进行确定"
   ]
  },
  {
   "cell_type": "code",
   "execution_count": null,
   "metadata": {
    "collapsed": true
   },
   "outputs": [],
   "source": [
    "% idx   hiddenLayerSize delay_weeks trainPerformance    valPerformance  testPerformance performance trainR  valR    testR   R   region1 region2 region3 region4 region5 region6 region7 region8 region9\n",
    "% result = tdnn_train(X, Y, delay_times, hiddenLayerSize)\n",
    "result = [];\n",
    "x = 2:0.5:8;\n",
    "x = 3.^x;\n",
    "for i = 1:5\n",
    "    for idx = x\n",
    "        result_one = tdnn_train(x_train, y_train, 6, floor(idx))\n",
    "        result = [result; result_one];\n",
    "    end\n",
    "end\n",
    "dlmwrite('result/20161217_1_result_repeat_5_delay_6_hid_range.dat', result, 'delimiter', '\\t');"
   ]
  },
  {
   "cell_type": "code",
   "execution_count": null,
   "metadata": {
    "collapsed": true
   },
   "outputs": [],
   "source": []
  }
 ],
 "metadata": {
  "anaconda-cloud": {},
  "kernelspec": {
   "display_name": "Matlab",
   "language": "matlab",
   "name": "matlab"
  },
  "language_info": {
   "codemirror_mode": "octave",
   "file_extension": ".m",
   "help_links": [
    {
     "text": "MetaKernel Magics",
     "url": "https://github.com/calysto/metakernel/blob/master/metakernel/magics/README.md"
    }
   ],
   "mimetype": "text/x-octave",
   "name": "matlab",
   "version": "0.11.0"
  }
 },
 "nbformat": 4,
 "nbformat_minor": 1
}
