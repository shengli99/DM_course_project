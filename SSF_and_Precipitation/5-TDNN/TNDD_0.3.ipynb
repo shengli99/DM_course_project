{
 "cells": [
  {
   "cell_type": "code",
   "execution_count": 1,
   "metadata": {
    "collapsed": true
   },
   "outputs": [],
   "source": [
    "cd ..\n",
    "clc; clear all; close all;\n",
    "addpath(genpath(pwd));\n",
    "zones_Prec = get_zones_Prec_weekly();\n",
    "OISST      = dlmread('data/OISST_19811101-20161116.dat');\n",
    "uwnd       = dlmread('data/uwnd_WIND_CCMP_merge_OISST_weekly.dat');\n",
    "vwnd       = dlmread('data/vwnd_WIND_CCMP_merge_OISST_weekly.dat');\n",
    "\n",
    "% Intercept SST to make them time consistent\n",
    "OISST = OISST(1:size(zones_Prec, 1), :);\n",
    "uwnd  = uwnd(1:size(zones_Prec, 1), :);\n",
    "vwnd  = vwnd(1:size(zones_Prec, 1), :);\n",
    "x_train = [OISST uwnd vwnd];\n",
    "y_train = zones_Prec;"
   ]
  },
  {
   "cell_type": "code",
   "execution_count": 2,
   "metadata": {
    "collapsed": false
   },
   "outputs": [
    {
     "name": "stdout",
     "output_type": "stream",
     "text": [
      "Name               Size                   Bytes  Class     Attributes\n",
      "\n",
      "  OISST           1688x20800            280883200  double              \n",
      "  uwnd            1688x20800            280883200  double              \n",
      "  vwnd            1688x20800            280883200  double              \n",
      "  x_train         1688x62400            842649600  double              \n",
      "  y_train         1688x9                   121536  double              \n",
      "  zones_Prec      1688x9                   121536  double\n"
     ]
    }
   ],
   "source": [
    "whos"
   ]
  },
  {
   "cell_type": "code",
   "execution_count": null,
   "metadata": {
    "collapsed": true
   },
   "outputs": [],
   "source": [
    "% idx   hiddenLayerSize delay_weeks trainPerformance    valPerformance  testPerformance performance trainR  valR    testR   R   region1 region2 region3 region4 region5 region6 region7 region8 region9\n",
    "% result = tdnn_train(X, Y, delay_times, hiddenLayerSize)\n",
    "result = [];\n",
    "for delay_times = 1:30\n",
    "    for repeat = 1:4\n",
    "        result_one = tdnn_train(x_train, y_train, delay_times, 30);\n",
    "        result = [result; result_one];\n",
    "    end\n",
    "end\n",
    "dlmwrite('result/20161218_1_result_repeat_4_delay_1-30_hid_30.dat', result, 'delimiter', '\\t');"
   ]
  },
  {
   "cell_type": "code",
   "execution_count": 7,
   "metadata": {
    "collapsed": false
   },
   "outputs": [
    {
     "name": "stdout",
     "output_type": "stream",
     "text": [
      "Name                Size                   Bytes  Class     Attributes\n",
      "\n",
      "  OISST            1688x20800            280883200  double              \n",
      "  ans                 1x1                        8  double              \n",
      "  delay_times         1x1                        8  double              \n",
      "  repeat              1x1                        8  double              \n",
      "  result             80x20                   12800  double              \n",
      "  result_one          1x20                     160  double              \n",
      "  uwnd             1688x20800            280883200  double              \n",
      "  vwnd             1688x20800            280883200  double              \n",
      "  x_train          1688x62400            842649600  double              \n",
      "  y_train          1688x9                   121536  double              \n",
      "  zones_Prec       1688x9                   121536  double\n"
     ]
    }
   ],
   "source": [
    "whos"
   ]
  },
  {
   "cell_type": "code",
   "execution_count": null,
   "metadata": {
    "collapsed": true
   },
   "outputs": [],
   "source": [
    "% idx   hiddenLayerSize delay_weeks trainPerformance    valPerformance  testPerformance performance trainR  valR    testR   R   region1 region2 region3 region4 region5 region6 region7 region8 region9\n",
    "% result = tdnn_train(X, Y, delay_times, hiddenLayerSize)\n",
    "result = [];\n",
    "for delay_times = 21:30\n",
    "    for repeat = 1:10\n",
    "        result_one = tdnn_train(x_train, y_train, delay_times, 30);\n",
    "        result = [result; result_one];\n",
    "    end\n",
    "end\n",
    "dlmwrite('result/20161220_1_result_repeat_10_delay_21-30_hid_30.dat', result, 'delimiter', '\\t');"
   ]
  },
  {
   "cell_type": "code",
   "execution_count": 9,
   "metadata": {
    "collapsed": false
   },
   "outputs": [
    {
     "name": "stdout",
     "output_type": "stream",
     "text": [
      "Name                Size                   Bytes  Class     Attributes\n",
      "\n",
      "  OISST            1688x20800            280883200  double              \n",
      "  ans                 1x1                        8  double              \n",
      "  delay_times         1x1                        8  double              \n",
      "  repeat              1x1                        8  double              \n",
      "  result              0x0                        0  double              \n",
      "  result_one          1x20                     160  double              \n",
      "  uwnd             1688x20800            280883200  double              \n",
      "  vwnd             1688x20800            280883200  double              \n",
      "  x_train          1688x62400            842649600  double              \n",
      "  y_train          1688x9                   121536  double              \n",
      "  zones_Prec       1688x9                   121536  double\n"
     ]
    }
   ],
   "source": [
    "whos"
   ]
  },
  {
   "cell_type": "code",
   "execution_count": 10,
   "metadata": {
    "collapsed": true
   },
   "outputs": [],
   "source": [
    "dlmwrite('result/20161220_1_result_repeat_10_delay_21-30_hid_30.dat', result, 'delimiter', '\\t');"
   ]
  },
  {
   "cell_type": "code",
   "execution_count": 14,
   "metadata": {
    "collapsed": false
   },
   "outputs": [
    {
     "name": "stdout",
     "output_type": "stream",
     "text": [
      "ans =\n",
      "\n",
      "    30    20\n"
     ]
    }
   ],
   "source": [
    "result_one(2:3)"
   ]
  },
  {
   "cell_type": "code",
   "execution_count": null,
   "metadata": {
    "collapsed": true
   },
   "outputs": [],
   "source": []
  }
 ],
 "metadata": {
  "anaconda-cloud": {},
  "kernelspec": {
   "display_name": "Matlab",
   "language": "matlab",
   "name": "matlab"
  },
  "language_info": {
   "codemirror_mode": "octave",
   "file_extension": ".m",
   "help_links": [
    {
     "text": "MetaKernel Magics",
     "url": "https://github.com/calysto/metakernel/blob/master/metakernel/magics/README.md"
    }
   ],
   "mimetype": "text/x-octave",
   "name": "matlab",
   "version": "0.11.0"
  }
 },
 "nbformat": 4,
 "nbformat_minor": 1
}
